{
 "cells": [
  {
   "cell_type": "code",
   "execution_count": 13,
   "id": "597f9f3f",
   "metadata": {},
   "outputs": [
    {
     "name": "stderr",
     "output_type": "stream",
     "text": [
      "ERROR: Could not find a version that satisfies the requirement smooth-tiled-predictions (from versions: none)\n",
      "ERROR: No matching distribution found for smooth-tiled-predictions\n"
     ]
    },
    {
     "name": "stdout",
     "output_type": "stream",
     "text": [
      "Collecting package metadata (current_repodata.json): ...working... done\n",
      "Solving environment: ...working... unsuccessful initial attempt using frozen solve. Retrying with flexible solve.\n",
      "Collecting package metadata (repodata.json): ...working... done\n",
      "Solving environment: ...working... unsuccessful initial attempt using frozen solve. Retrying with flexible solve.\n"
     ]
    },
    {
     "name": "stderr",
     "output_type": "stream",
     "text": [
      "\n",
      "PackagesNotFoundError: The following packages are not available from current channels:\n",
      "\n",
      "  - smooth-tiled-predictions\n",
      "\n",
      "Current channels:\n",
      "\n",
      "  - https://conda.anaconda.org/conda-forge/win-64\n",
      "  - https://conda.anaconda.org/conda-forge/noarch\n",
      "  - https://repo.anaconda.com/pkgs/main/win-64\n",
      "  - https://repo.anaconda.com/pkgs/main/noarch\n",
      "  - https://repo.anaconda.com/pkgs/r/win-64\n",
      "  - https://repo.anaconda.com/pkgs/r/noarch\n",
      "  - https://repo.anaconda.com/pkgs/msys2/win-64\n",
      "  - https://repo.anaconda.com/pkgs/msys2/noarch\n",
      "\n",
      "To search for alternate channels that may provide the conda package you're\n",
      "looking for, navigate to\n",
      "\n",
      "    https://anaconda.org\n",
      "\n",
      "and use the search bar at the top of the page.\n",
      "\n",
      "\n"
     ]
    }
   ],
   "source": [
    "!pip install smooth-tiled-predictions\n",
    "!conda install -c conda-forge smooth-tiled-predictions\n",
    "\n",
    "\n"
   ]
  },
  {
   "cell_type": "code",
   "execution_count": 11,
   "id": "79f212db",
   "metadata": {},
   "outputs": [
    {
     "name": "stderr",
     "output_type": "stream",
     "text": [
      "ERROR: Could not find a version that satisfies the requirement smooth-tiled-predictions (from versions: none)\n",
      "ERROR: No matching distribution found for smooth-tiled-predictions\n"
     ]
    }
   ],
   "source": [
    "!pip install smooth-tiled-predictions\n"
   ]
  },
  {
   "cell_type": "code",
   "execution_count": 5,
   "id": "3ab7e3a7",
   "metadata": {},
   "outputs": [
    {
     "name": "stdout",
     "output_type": "stream",
     "text": [
      "Requirement already satisfied: pip in c:\\users\\abc\\anaconda3\\lib\\site-packages (23.2.1)\n",
      "Collecting pip\n",
      "  Obtaining dependency information for pip from https://files.pythonhosted.org/packages/47/6a/453160888fab7c6a432a6e25f8afe6256d0d9f2cbd25971021da6491d899/pip-23.3.1-py3-none-any.whl.metadata\n",
      "  Downloading pip-23.3.1-py3-none-any.whl.metadata (3.5 kB)\n",
      "Downloading pip-23.3.1-py3-none-any.whl (2.1 MB)\n",
      "   ---------------------------------------- 0.0/2.1 MB ? eta -:--:--\n",
      "   ---------------------------------------- 0.0/2.1 MB ? eta -:--:--\n",
      "   ---------------------------------------- 0.0/2.1 MB ? eta -:--:--\n",
      "    --------------------------------------- 0.0/2.1 MB 186.2 kB/s eta 0:00:12\n",
      "    --------------------------------------- 0.0/2.1 MB 217.9 kB/s eta 0:00:10\n",
      "   - -------------------------------------- 0.1/2.1 MB 403.5 kB/s eta 0:00:05\n",
      "   -- ------------------------------------- 0.2/2.1 MB 573.4 kB/s eta 0:00:04\n",
      "   ---- ----------------------------------- 0.2/2.1 MB 724.0 kB/s eta 0:00:03\n",
      "   ------ --------------------------------- 0.4/2.1 MB 1.0 MB/s eta 0:00:02\n",
      "   --------- ------------------------------ 0.5/2.1 MB 1.2 MB/s eta 0:00:02\n",
      "   ----------- ---------------------------- 0.6/2.1 MB 1.3 MB/s eta 0:00:02\n",
      "   ------------- -------------------------- 0.7/2.1 MB 1.5 MB/s eta 0:00:01\n",
      "   --------------------- ------------------ 1.1/2.1 MB 2.1 MB/s eta 0:00:01\n",
      "   ---------------------------- ----------- 1.5/2.1 MB 2.6 MB/s eta 0:00:01\n",
      "   ---------------------------------------  2.1/2.1 MB 3.3 MB/s eta 0:00:01\n",
      "   ---------------------------------------  2.1/2.1 MB 3.3 MB/s eta 0:00:01\n",
      "   ---------------------------------------- 2.1/2.1 MB 3.0 MB/s eta 0:00:00\n"
     ]
    },
    {
     "name": "stderr",
     "output_type": "stream",
     "text": [
      "ERROR: To modify pip, please run the following command:\n",
      "C:\\Users\\abc\\anaconda3\\python.exe -m pip install --upgrade pip\n"
     ]
    }
   ],
   "source": [
    "!pip install --upgrade pip\n"
   ]
  },
  {
   "cell_type": "code",
   "execution_count": null,
   "id": "2a79e451",
   "metadata": {},
   "outputs": [],
   "source": []
  },
  {
   "cell_type": "code",
   "execution_count": 12,
   "id": "dfda1cca",
   "metadata": {},
   "outputs": [
    {
     "ename": "ModuleNotFoundError",
     "evalue": "No module named 'smooth_tiled_predictions'",
     "output_type": "error",
     "traceback": [
      "\u001b[1;31m---------------------------------------------------------------------------\u001b[0m",
      "\u001b[1;31mModuleNotFoundError\u001b[0m                       Traceback (most recent call last)",
      "Cell \u001b[1;32mIn[12], line 23\u001b[0m\n\u001b[0;32m     20\u001b[0m \u001b[38;5;28;01mfrom\u001b[39;00m \u001b[38;5;21;01msklearn\u001b[39;00m\u001b[38;5;21;01m.\u001b[39;00m\u001b[38;5;21;01mpreprocessing\u001b[39;00m \u001b[38;5;28;01mimport\u001b[39;00m MinMaxScaler\n\u001b[0;32m     21\u001b[0m scaler \u001b[38;5;241m=\u001b[39m MinMaxScaler()\n\u001b[1;32m---> 23\u001b[0m \u001b[38;5;28;01mfrom\u001b[39;00m \u001b[38;5;21;01msmooth_tiled_predictions\u001b[39;00m \u001b[38;5;28;01mimport\u001b[39;00m predict_img_with_smooth_windowing\n\u001b[0;32m     25\u001b[0m BACKBONE \u001b[38;5;241m=\u001b[39m \u001b[38;5;124m'\u001b[39m\u001b[38;5;124mresnet34\u001b[39m\u001b[38;5;124m'\u001b[39m\n\u001b[0;32m     26\u001b[0m preprocess_input \u001b[38;5;241m=\u001b[39m sm\u001b[38;5;241m.\u001b[39mget_preprocessing(BACKBONE)\n",
      "\u001b[1;31mModuleNotFoundError\u001b[0m: No module named 'smooth_tiled_predictions'"
     ]
    }
   ],
   "source": [
    "# https://youtu.be/0W6MKZqSke8\n",
    "\"\"\"\n",
    "Author: Dr. Sreenivas Bhattiprolu \n",
    "\n",
    "Prediction using smooth tiling as descibed here...\n",
    "\n",
    "https://github.com/Vooban/Smoothly-Blend-Image-Patches\n",
    "\n",
    "\n",
    "\"\"\"\n",
    "\n",
    "import cv2\n",
    "import numpy as np\n",
    "\n",
    "from matplotlib import pyplot as plt\n",
    "from patchify import patchify, unpatchify\n",
    "from PIL import Image\n",
    "import segmentation_models as sm\n",
    "\n",
    "from sklearn.preprocessing import MinMaxScaler\n",
    "scaler = MinMaxScaler()\n",
    "\n",
    "from smooth_tiled_predictions import predict_img_with_smooth_windowing\n",
    "\n",
    "BACKBONE = 'resnet34'\n",
    "preprocess_input = sm.get_preprocessing(BACKBONE)\n",
    "\n",
    "img = cv2.imread(\"data/images/N-34-66-C-c-4-3.tif\")  #N-34-66-C-c-4-3.tif, N-34-97-D-c-2-4.tif\n",
    "input_img = scaler.fit_transform(img.reshape(-1, img.shape[-1])).reshape(img.shape)\n",
    "input_img = preprocess_input(input_img)\n",
    "\n",
    "original_mask = cv2.imread(\"data/masks/N-34-66-C-c-4-3.tif\")\n",
    "original_mask = original_mask[:,:,0]  #Use only single channel...\n",
    "#original_mask = to_categorical(original_mask, num_classes=n_classes)\n",
    "\n",
    "from keras.models import load_model\n",
    "model = load_model(\"landcover_25_epochs_RESNET_backbone_batch16.hdf5\", compile=False)\n",
    "                  \n",
    "# size of patches\n",
    "patch_size = 256\n",
    "\n",
    "# Number of classes \n",
    "n_classes = 4\n",
    "\n"
   ]
  },
  {
   "cell_type": "code",
   "execution_count": null,
   "id": "abcb4c11",
   "metadata": {},
   "outputs": [],
   "source": [
    "#Predict using smooth blending\n",
    "\n",
    "# Use the algorithm. The `pred_func` is passed and will process all the image 8-fold by tiling small patches with overlap, called once with all those image as a batch outer dimension.\n",
    "# Note that model.predict(...) accepts a 4D tensor of shape (batch, x, y, nb_channels), such as a Keras model.\n",
    "predictions_smooth = predict_img_with_smooth_windowing(\n",
    "    input_img,\n",
    "    window_size=patch_size,\n",
    "    subdivisions=2,  # Minimal amount of overlap for windowing. Must be an even number.\n",
    "    nb_classes=n_classes,\n",
    "    pred_func=(\n",
    "        lambda img_batch_subdiv: model.predict((img_batch_subdiv))\n",
    "    )\n",
    ")\n",
    "\n",
    "\n",
    "final_prediction = np.argmax(predictions_smooth, axis=2)\n",
    "\n",
    "#Save prediction and original mask for comparison\n",
    "plt.imsave('data/test_images/N-34-66-C-c-4-3.tif_segmented.jpg', final_prediction)\n",
    "plt.imsave('data/test_images/N-34-66-C-c-4-3.tif_mask.jpg', original_mask)\n",
    "###################"
   ]
  },
  {
   "cell_type": "code",
   "execution_count": null,
   "id": "59b0c4a6",
   "metadata": {},
   "outputs": [],
   "source": [
    "plt.figure(figsize=(12, 12))\n",
    "plt.subplot(221)\n",
    "plt.title('Testing Image')\n",
    "plt.imshow(img)\n",
    "plt.subplot(222)\n",
    "plt.title('Testing Label')\n",
    "plt.imshow(original_mask)\n",
    "plt.subplot(223)\n",
    "plt.title('Prediction with smooth blending')\n",
    "plt.imshow(final_prediction)\n",
    "plt.show()\n"
   ]
  }
 ],
 "metadata": {
  "kernelspec": {
   "display_name": "Python 3 (ipykernel)",
   "language": "python",
   "name": "python3"
  },
  "language_info": {
   "codemirror_mode": {
    "name": "ipython",
    "version": 3
   },
   "file_extension": ".py",
   "mimetype": "text/x-python",
   "name": "python",
   "nbconvert_exporter": "python",
   "pygments_lexer": "ipython3",
   "version": "3.11.5"
  }
 },
 "nbformat": 4,
 "nbformat_minor": 5
}
